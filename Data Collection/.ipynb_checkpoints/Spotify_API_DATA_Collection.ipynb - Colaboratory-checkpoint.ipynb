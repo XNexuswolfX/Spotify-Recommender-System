{
 "cells": [
  {
   "cell_type": "markdown",
   "metadata": {
    "id": "az45_ZYoG-J0"
   },
   "source": [
    "# _Group 14 - Data Collection and Processing for Spotify Music Recommender Systems_"
   ]
  },
  {
   "cell_type": "markdown",
   "metadata": {
    "id": "mYAmtwYzG-J3"
   },
   "source": [
    "## Importing the required libraries for the data collection process."
   ]
  },
  {
   "cell_type": "code",
   "execution_count": 3,
   "metadata": {
    "id": "q3Y8QnE7G-J4"
   },
   "outputs": [],
   "source": [
    "import numpy as np\n",
    "import pandas as pd\n",
    "import time\n",
    "import seaborn as sns\n",
    "import matplotlib.pyplot as plt\n",
    "%matplotlib inline\n",
    "from numpy import percentile\n",
    "\n",
    "import spotipy\n",
    "from spotipy.oauth2 import SpotifyClientCredentials \n"
   ]
  },
  {
   "cell_type": "markdown",
   "metadata": {
    "id": "9qDlgUbbG-J6"
   },
   "source": [
    "## Setting our credentials to allow us to pull data from the API."
   ]
  },
  {
   "cell_type": "code",
   "execution_count": 4,
   "metadata": {
    "id": "doBGxUiFG-J6"
   },
   "outputs": [],
   "source": [
    "# To access authorised Spotify data you must create a developer account and obtain credentials.\n",
    "# Please reach out to us if you need to use our credentials. We can send that to you privately, to run this.\n",
    "client_id= \"YOUR_CLIENT_ID\"\n",
    "client_secret= \"YOUR_CLIENT_SECRET\"\n",
    "\n",
    "\n",
    "client_credentials_manager = SpotifyClientCredentials(client_id=client_id, client_secret=client_secret)\n",
    "\n",
    "sp = spotipy.Spotify(client_credentials_manager=client_credentials_manager) #spotify object to access API"
   ]
  },
  {
   "cell_type": "markdown",
   "metadata": {
    "id": "Yua1FyP1G-J6"
   },
   "source": [
    "## Passing list of the required artists. This is going to be from the user's music history."
   ]
  },
  {
   "cell_type": "code",
   "execution_count": 5,
   "metadata": {
    "colab": {
     "base_uri": "https://localhost:8080/",
     "height": 0
    },
    "id": "ikd1LshJG-J7",
    "outputId": "70c2bd83-21ca-48f9-9990-136f69dbf9b4"
   },
   "outputs": [
    {
     "data": {
      "text/plain": [
       "[[{'external_urls': {'spotify': 'https://open.spotify.com/artist/3TVXtAsR1Inumwj472S9r4'},\n",
       "   'href': 'https://api.spotify.com/v1/artists/3TVXtAsR1Inumwj472S9r4',\n",
       "   'id': '3TVXtAsR1Inumwj472S9r4',\n",
       "   'name': 'Drake',\n",
       "   'type': 'artist',\n",
       "   'uri': 'spotify:artist:3TVXtAsR1Inumwj472S9r4'},\n",
       "  {'external_urls': {'spotify': 'https://open.spotify.com/artist/1RyvyyTE3xzB2ZywiAwp0i'},\n",
       "   'href': 'https://api.spotify.com/v1/artists/1RyvyyTE3xzB2ZywiAwp0i',\n",
       "   'id': '1RyvyyTE3xzB2ZywiAwp0i',\n",
       "   'name': 'Future',\n",
       "   'type': 'artist',\n",
       "   'uri': 'spotify:artist:1RyvyyTE3xzB2ZywiAwp0i'},\n",
       "  {'external_urls': {'spotify': 'https://open.spotify.com/artist/50co4Is1HCEo8bhOyUWKpn'},\n",
       "   'href': 'https://api.spotify.com/v1/artists/50co4Is1HCEo8bhOyUWKpn',\n",
       "   'id': '50co4Is1HCEo8bhOyUWKpn',\n",
       "   'name': 'Young Thug',\n",
       "   'type': 'artist',\n",
       "   'uri': 'spotify:artist:50co4Is1HCEo8bhOyUWKpn'}],\n",
       " [{'external_urls': {'spotify': 'https://open.spotify.com/artist/3TVXtAsR1Inumwj472S9r4'},\n",
       "   'href': 'https://api.spotify.com/v1/artists/3TVXtAsR1Inumwj472S9r4',\n",
       "   'id': '3TVXtAsR1Inumwj472S9r4',\n",
       "   'name': 'Drake',\n",
       "   'type': 'artist',\n",
       "   'uri': 'spotify:artist:3TVXtAsR1Inumwj472S9r4'},\n",
       "  {'external_urls': {'spotify': 'https://open.spotify.com/artist/1RyvyyTE3xzB2ZywiAwp0i'},\n",
       "   'href': 'https://api.spotify.com/v1/artists/1RyvyyTE3xzB2ZywiAwp0i',\n",
       "   'id': '1RyvyyTE3xzB2ZywiAwp0i',\n",
       "   'name': 'Future',\n",
       "   'type': 'artist',\n",
       "   'uri': 'spotify:artist:1RyvyyTE3xzB2ZywiAwp0i'},\n",
       "  {'external_urls': {'spotify': 'https://open.spotify.com/artist/50co4Is1HCEo8bhOyUWKpn'},\n",
       "   'href': 'https://api.spotify.com/v1/artists/50co4Is1HCEo8bhOyUWKpn',\n",
       "   'id': '50co4Is1HCEo8bhOyUWKpn',\n",
       "   'name': 'Young Thug',\n",
       "   'type': 'artist',\n",
       "   'uri': 'spotify:artist:50co4Is1HCEo8bhOyUWKpn'}],\n",
       " [{'external_urls': {'spotify': 'https://open.spotify.com/artist/4gzpq5DPGxSnKTe4SA8HAU'},\n",
       "   'href': 'https://api.spotify.com/v1/artists/4gzpq5DPGxSnKTe4SA8HAU',\n",
       "   'id': '4gzpq5DPGxSnKTe4SA8HAU',\n",
       "   'name': 'Coldplay',\n",
       "   'type': 'artist',\n",
       "   'uri': 'spotify:artist:4gzpq5DPGxSnKTe4SA8HAU'},\n",
       "  {'external_urls': {'spotify': 'https://open.spotify.com/artist/3Nrfpe0tUJi4K4DXYWgMUX'},\n",
       "   'href': 'https://api.spotify.com/v1/artists/3Nrfpe0tUJi4K4DXYWgMUX',\n",
       "   'id': '3Nrfpe0tUJi4K4DXYWgMUX',\n",
       "   'name': 'BTS',\n",
       "   'type': 'artist',\n",
       "   'uri': 'spotify:artist:3Nrfpe0tUJi4K4DXYWgMUX'}]]"
      ]
     },
     "execution_count": 5,
     "metadata": {},
     "output_type": "execute_result"
    }
   ],
   "source": [
    "names = [\"Drake\",\"Future\",\"Coldplay\"] #artists name list\n",
    "\n",
    "result_req = []\n",
    "\n",
    "for i in range(0,len(names)):\n",
    "    result = sp.search(names[i])\n",
    "    result_req.append(result['tracks']['items'][0]['artists'])\n",
    "\n",
    "result_req"
   ]
  },
  {
   "cell_type": "markdown",
   "metadata": {
    "id": "4qqlO01yG-J9"
   },
   "source": [
    "## Extracting each artist's unique (uri)."
   ]
  },
  {
   "cell_type": "code",
   "execution_count": 6,
   "metadata": {
    "colab": {
     "base_uri": "https://localhost:8080/",
     "height": 0
    },
    "id": "dQu628FnG-J-",
    "outputId": "ace7d0a3-97d2-4137-91a7-3159d9d129e4"
   },
   "outputs": [
    {
     "data": {
      "text/plain": [
       "{'spotify:artist:1RyvyyTE3xzB2ZywiAwp0i',\n",
       " 'spotify:artist:3Nrfpe0tUJi4K4DXYWgMUX',\n",
       " 'spotify:artist:3TVXtAsR1Inumwj472S9r4',\n",
       " 'spotify:artist:4gzpq5DPGxSnKTe4SA8HAU',\n",
       " 'spotify:artist:50co4Is1HCEo8bhOyUWKpn'}"
      ]
     },
     "execution_count": 6,
     "metadata": {},
     "output_type": "execute_result"
    }
   ],
   "source": [
    "artist_uri = []\n",
    "\n",
    "for i in range(len(result_req)):\n",
    "    for j in range(len(result_req[i])):\n",
    "          artist_uri.append(result_req[i][j]['uri'])\n",
    "\n",
    "# Using set() function on the obtained list to remove duplicates. \n",
    "\n",
    "artist_uri = set(artist_uri)\n",
    "\n",
    "artist_uri"
   ]
  },
  {
   "cell_type": "markdown",
   "metadata": {
    "id": "pfpxuodrG-J-"
   },
   "source": [
    "## Using the uri's. We then used spotipy's method sp.artist_albums() to get the info about all albums of the artist in Spotify's database."
   ]
  },
  {
   "cell_type": "code",
   "execution_count": 7,
   "metadata": {
    "colab": {
     "base_uri": "https://localhost:8080/",
     "height": 0
    },
    "id": "-Hda5o06G-J_",
    "outputId": "02555602-efe6-44bd-c031-7e1470b09da7",
    "scrolled": true
   },
   "outputs": [
    {
     "data": {
      "text/plain": [
       "['spotify:album:2qehskW9lYGWfYb0xPZkrS',\n",
       " 'spotify:album:6uino3UBLWxAKsdnY0ad5s',\n",
       " 'spotify:album:1nScVw87kRJiT2bg2Kswhp',\n",
       " 'spotify:album:3l5hwCuEtpjMiSdEch4vZR',\n",
       " 'spotify:album:6mJZTV8lCqnwftYZa94bXS',\n",
       " 'spotify:album:6yUxkZHB0tE1pNDXKoqiV2',\n",
       " 'spotify:album:5U1ZuGKMaNISjaalmOb3cJ',\n",
       " 'spotify:album:1AvXa8xFEXtR3hb4bgihIK',\n",
       " 'spotify:album:1wDYt75aspggZA48JlClMG',\n",
       " 'spotify:album:2jJfnAZE6IG3oYnUv2eCj4',\n",
       " 'spotify:album:66J1OXSaS3hBZASOV3el8t',\n",
       " 'spotify:album:2FTS6a6DLXMNp8flyA0HGO',\n",
       " 'spotify:album:6pP1ZMcjogKIZ515GxhBBG',\n",
       " 'spotify:album:5liZcQeYT5zHkwdZbtRa3M',\n",
       " 'spotify:album:6YMidCpGbUdswQodIGSyMt',\n",
       " 'spotify:album:7LF4N7lvyDhrPBuCJ1rplJ',\n",
       " 'spotify:album:1EnFJjX81khStbM3BhTDle',\n",
       " 'spotify:album:17FnTn4P3Bkyf6mbNQDhhy',\n",
       " 'spotify:album:5RTaGKyNTg9KcKJG6BoAqK',\n",
       " 'spotify:album:0nCEuT8Se5895fcucSx2n3',\n",
       " 'spotify:album:3XADnbi4uhYXb7RuSJ7bre',\n",
       " 'spotify:album:3ihwKkIMJWmmp1huNH0iWC',\n",
       " 'spotify:album:4z8IoUDFp5dmiQNDlT4hu5',\n",
       " 'spotify:album:2MUc9nWkppdNnM8dfz0l1w',\n",
       " 'spotify:album:7fZKtzZAsfH0kzeTivu5TG',\n",
       " 'spotify:album:4ZfPehLCNr9bxpugRRiUyM',\n",
       " 'spotify:album:24jAbLMFzCTlIv3kQ94HwK',\n",
       " 'spotify:album:1bnHPO4dKK7IjvgrtVBcQh',\n",
       " 'spotify:album:5AivpkHClIpmRxheNz1TzN',\n",
       " 'spotify:album:4OHfmMUq6xwCo8zfQuc9Rf',\n",
       " 'spotify:album:5Dwws0oO0fQLDsrwZE7rvW',\n",
       " 'spotify:album:0US0Bhn0oOLwVqXVnz0HDb',\n",
       " 'spotify:album:187UNqZ7MX3neMYkkevmdm',\n",
       " 'spotify:album:51KZKzPd3OQT1r46a55VTt',\n",
       " 'spotify:album:7EpUpNUkkEGnaCvkcn1j4H',\n",
       " 'spotify:album:2z4c8M8aVzl7CTobIp36KF',\n",
       " 'spotify:album:4Rj8KShBw1IrBW3A7wsEmi',\n",
       " 'spotify:album:4sAB9WulPpnAcig7alDGTg',\n",
       " 'spotify:album:0ZTiZtSpSm5Px4sVZQa0WR',\n",
       " 'spotify:album:0BsMZIueWsJLWng8A7sE8e',\n",
       " 'spotify:album:7z0efuBXAnPfu60aOL3QFV',\n",
       " 'spotify:album:2FeyIYDDAQqcOJKOKhvHdr',\n",
       " 'spotify:album:38dLksLxrS6SBps345nbJI',\n",
       " 'spotify:album:4dBp8rzdqH9unSndGk6g6o',\n",
       " 'spotify:album:19CvkGjYpifkdwgVJSbog2',\n",
       " 'spotify:album:6K1fjArmQ4SEiSDIG9fY01',\n",
       " 'spotify:album:3cfAM8b8KqJRoIzt3zLKqw',\n",
       " 'spotify:album:5IDGBfcVjwMoGPKOsfyXLN',\n",
       " 'spotify:album:1hNS0RsxPTFjmKXCgmjSLS',\n",
       " 'spotify:album:2G4AUqfwxcV1UdQjm2ouYr',\n",
       " 'spotify:album:5KW3bBpEv3bvxAZ3MACEEz',\n",
       " 'spotify:album:2R7iJz5uaHjLEVnMkloO18',\n",
       " 'spotify:album:5GykKNn2KjofEoA8SpNnuw',\n",
       " 'spotify:album:3pboBm7GTa6V5dFXXCt52b',\n",
       " 'spotify:album:4XTT0NcNHyvl6h9JX2AfEi',\n",
       " 'spotify:album:2LIlrvVO0NP48jamVdlDo3',\n",
       " 'spotify:album:6JlhIoegCcjtdbTQbypS8R',\n",
       " 'spotify:album:71pRFAwHBLrjKYRG7V1Q2o',\n",
       " 'spotify:album:1MnAljVs4hcGU6pTcK2jdT',\n",
       " 'spotify:album:4Uo9tGSEkAUYHWfVGHhhZm',\n",
       " 'spotify:album:3aITAVBURujVe8fhI2seeR',\n",
       " 'spotify:album:48xpWR8K6CGpy3ETAym3pt',\n",
       " 'spotify:album:27fzM2E0lgovCD7PCq6eh4',\n",
       " 'spotify:album:6HcU64bPPXTHIbWmGblIkT',\n",
       " 'spotify:album:4bNPOFOzxGhF5jhfIK6lit',\n",
       " 'spotify:album:4V6ur2bnlbPUvpjkTHTnMW',\n",
       " 'spotify:album:65hRa80KDworqyE8242rLN',\n",
       " 'spotify:album:4SiRpStqaM5Xmd3nuGFM6R',\n",
       " 'spotify:album:3LpIwZdzFwc10psLingT8x',\n",
       " 'spotify:album:3ta7Nm07uIxMPVEiqpkLEN',\n",
       " 'spotify:album:6P9PZjWXoCRF5b66BafPKY',\n",
       " 'spotify:album:1uCLzanq1xy3eX2zyM4Sr0',\n",
       " 'spotify:album:6Ew52HWkgfbth9ihRAq2Xd',\n",
       " 'spotify:album:0KyO7XcPyKdqrbN08h8avh',\n",
       " 'spotify:album:0C0Vs4XobImmqpr6kIasde',\n",
       " 'spotify:album:0US0Bhn0oOLwVqXVnz0HDb',\n",
       " 'spotify:album:187UNqZ7MX3neMYkkevmdm',\n",
       " 'spotify:album:1P8NvRvykmDrKyfglMerMv',\n",
       " 'spotify:album:4YtTX4GPvBvewbJvBfXCS2',\n",
       " 'spotify:album:7K6OykPbezfgKgBufihn6X',\n",
       " 'spotify:album:3SpBlxme9WbeQdI9kx7KAV',\n",
       " 'spotify:album:6sp02aeyiwfX35xRqwNiPv',\n",
       " 'spotify:album:6OQ9gBfg5EXeNAEwGSs6jK',\n",
       " 'spotify:album:45c1tgTktunRMmfh3WVh8U',\n",
       " 'spotify:album:7dqpveMVcWgbzqYrOdkFTD',\n",
       " 'spotify:album:6CY70qRxPutN3VKfYhNREa',\n",
       " 'spotify:album:2podUJIFG8hLfFz7Kqe8yJ',\n",
       " 'spotify:album:1ATL5GLyefJaxhQzSPVrLX',\n",
       " 'spotify:album:42wvKYHFezpmDuAP43558f',\n",
       " 'spotify:album:1lXY618HWkwYKJWBRYR4MK',\n",
       " 'spotify:album:4dvkEfxroInqojJWP06R2V',\n",
       " 'spotify:album:40GMAhriYJRO1rsY4YdrZb',\n",
       " 'spotify:album:2yIwhsIWGRQzGQdn1czSK0',\n",
       " 'spotify:album:15QCBYjP6HwHvsff100UBx',\n",
       " 'spotify:album:1ozpmkWcCHwsQ4QTnxOOdT',\n",
       " 'spotify:album:0ptlfJfwGTy0Yvrk14JK1I',\n",
       " 'spotify:album:5bqZfS9HUBTtxW0UiG05qC',\n",
       " 'spotify:album:2ZUFSbIkmFkGag000RWOpA',\n",
       " 'spotify:album:5mz0mJxb80gqJIcRf9LGHJ',\n",
       " 'spotify:album:766Pi8jEi9JZRvi4y9KRdP']"
      ]
     },
     "execution_count": 7,
     "metadata": {},
     "output_type": "execute_result"
    }
   ],
   "source": [
    "# sp_albums = sp.albums\n",
    "\n",
    "album_names = []\n",
    "album_uris = []\n",
    "\n",
    "#Pull data for all of the artist's albums\n",
    "for artist in artist_uri:\n",
    "    sp_albums = sp.artist_albums(artist, album_type='album')\n",
    "    for i in range(len(sp_albums['items'])):\n",
    "        album_names.append(sp_albums['items'][i]['name'])\n",
    "        album_uris.append(sp_albums['items'][i]['uri'])\n",
    "        \n",
    "# Names and uris in same order to prevent duplicacy.\n",
    "\n",
    "album_names\n",
    "album_uris\n"
   ]
  },
  {
   "cell_type": "markdown",
   "metadata": {
    "id": "QqWf1tcVG-J_"
   },
   "source": [
    "## Defining function for adding album info like songs and track uri to a dictionary. This will be called recursively for each album."
   ]
  },
  {
   "cell_type": "code",
   "execution_count": 8,
   "metadata": {
    "id": "jypLhAGhG-KA"
   },
   "outputs": [],
   "source": [
    "def albumSongs(uri):\n",
    "    album = uri #assign album uri to a_name\n",
    "    spotify_albums[album] = {} #Creates dictionary for that specific album\n",
    "    #Create keys-values of empty lists inside nested dictionary for album\n",
    "    spotify_albums[album]['album'] = [] #create empty list\n",
    "    spotify_albums[album]['track_number'] = []\n",
    "    spotify_albums[album]['id'] = []\n",
    "    spotify_albums[album]['name'] = []\n",
    "    spotify_albums[album]['uri'] = []\n",
    "    tracks = sp.album_tracks(album) #pull data on album tracks\n",
    "    for n in range(len(tracks['items'])): #for each song track\n",
    "            spotify_albums[album]['album'].append(album_names[album_count]) #append album name tracked via album_count\n",
    "            spotify_albums[album]['track_number'].append(tracks['items'][n]['track_number'])\n",
    "            spotify_albums[album]['id'].append(tracks['items'][n]['id'])\n",
    "            spotify_albums[album]['name'].append(tracks['items'][n]['name'])\n",
    "            spotify_albums[album]['uri'].append(tracks['items'][n]['uri'])"
   ]
  },
  {
   "cell_type": "markdown",
   "metadata": {
    "id": "NqdiQPZLG-KA"
   },
   "source": [
    "## Calling the function to create the required dictionary. Spotify_albums { }."
   ]
  },
  {
   "cell_type": "code",
   "execution_count": 9,
   "metadata": {
    "colab": {
     "base_uri": "https://localhost:8080/",
     "height": 0
    },
    "id": "VJ3F3LpkG-KB",
    "outputId": "2a524283-0f68-40d3-c53d-1f09d52b3dfe",
    "scrolled": true
   },
   "outputs": [
    {
     "name": "stdout",
     "output_type": "stream",
     "text": [
      "Album BE songs has been added to spotify_albums dictionary\n",
      "Album BE songs has been added to spotify_albums dictionary\n",
      "Album MAP OF THE SOUL : 7 ~ THE JOURNEY ~ songs has been added to spotify_albums dictionary\n",
      "Album MAP OF THE SOUL : 7 songs has been added to spotify_albums dictionary\n",
      "Album MAP OF THE SOUL : 7 songs has been added to spotify_albums dictionary\n",
      "Album MAP OF THE SOUL : 7 songs has been added to spotify_albums dictionary\n",
      "Album MAP OF THE SOUL : PERSONA songs has been added to spotify_albums dictionary\n",
      "Album MAP OF THE SOUL : PERSONA songs has been added to spotify_albums dictionary\n",
      "Album LOVE YOURSELF 轉 'Tear' songs has been added to spotify_albums dictionary\n",
      "Album Love Yourself 轉 'Tear' songs has been added to spotify_albums dictionary\n",
      "Album FACE YOURSELF songs has been added to spotify_albums dictionary\n",
      "Album Love Yourself 承 'Her' songs has been added to spotify_albums dictionary\n",
      "Album LOVE YOURSELF 承 'Her' songs has been added to spotify_albums dictionary\n",
      "Album You Never Walk Alone songs has been added to spotify_albums dictionary\n",
      "Album YOU NEVER WALK ALONE songs has been added to spotify_albums dictionary\n",
      "Album You Never Walk Alone songs has been added to spotify_albums dictionary\n",
      "Album WINGS songs has been added to spotify_albums dictionary\n",
      "Album Wings songs has been added to spotify_albums dictionary\n",
      "Album WINGS songs has been added to spotify_albums dictionary\n",
      "Album YOUTH songs has been added to spotify_albums dictionary\n",
      "Album Slime Language 2 (Deluxe) songs has been added to spotify_albums dictionary\n",
      "Album Slime Language 2 songs has been added to spotify_albums dictionary\n",
      "Album Slime Language 2 (Deluxe) songs has been added to spotify_albums dictionary\n",
      "Album Slime Language 2 songs has been added to spotify_albums dictionary\n",
      "Album Slime & B songs has been added to spotify_albums dictionary\n",
      "Album Slime & B songs has been added to spotify_albums dictionary\n",
      "Album So Much Fun (Deluxe) songs has been added to spotify_albums dictionary\n",
      "Album So Much Fun songs has been added to spotify_albums dictionary\n",
      "Album So Much Fun songs has been added to spotify_albums dictionary\n",
      "Album Slime Language songs has been added to spotify_albums dictionary\n",
      "Album Slime Season 4 songs has been added to spotify_albums dictionary\n",
      "Album SUPER SLIMEY songs has been added to spotify_albums dictionary\n",
      "Album SUPER SLIMEY songs has been added to spotify_albums dictionary\n",
      "Album Beautiful Thugger Girls songs has been added to spotify_albums dictionary\n",
      "Album JEFFERY songs has been added to spotify_albums dictionary\n",
      "Album Slime Season 3 songs has been added to spotify_albums dictionary\n",
      "Album MigoThuggin songs has been added to spotify_albums dictionary\n",
      "Album I'm Up songs has been added to spotify_albums dictionary\n",
      "Album Young Thugger Mane La Flare songs has been added to spotify_albums dictionary\n",
      "Album Barter 6 songs has been added to spotify_albums dictionary\n",
      "Album Everyday Life songs has been added to spotify_albums dictionary\n",
      "Album Everyday Life songs has been added to spotify_albums dictionary\n",
      "Album Everyday Life songs has been added to spotify_albums dictionary\n",
      "Album Everyday Life songs has been added to spotify_albums dictionary\n",
      "Album Live in Buenos Aires songs has been added to spotify_albums dictionary\n",
      "Album Love in Tokyo songs has been added to spotify_albums dictionary\n",
      "Album A Head Full of Dreams songs has been added to spotify_albums dictionary\n",
      "Album A Head Full of Dreams Tour Edition songs has been added to spotify_albums dictionary\n",
      "Album Ghost Stories Live 2014 songs has been added to spotify_albums dictionary\n",
      "Album Ghost Stories songs has been added to spotify_albums dictionary\n",
      "Album Mylo Xyloto songs has been added to spotify_albums dictionary\n",
      "Album Mylo Xyloto songs has been added to spotify_albums dictionary\n",
      "Album Mylo Xyloto songs has been added to spotify_albums dictionary\n",
      "Album LeftRightLeftRightLeft (Live) songs has been added to spotify_albums dictionary\n",
      "Album Viva La Vida (Prospekt's March Edition) songs has been added to spotify_albums dictionary\n",
      "Album Viva La Vida (Prospekt's March Edition) songs has been added to spotify_albums dictionary\n",
      "Album Viva La Vida (Prospekt's March Edition) songs has been added to spotify_albums dictionary\n",
      "Album Viva La Vida (Prospekt's March Edition) songs has been added to spotify_albums dictionary\n",
      "Album Viva La Vida (Prospekt's March Edition) songs has been added to spotify_albums dictionary\n",
      "Album Viva La Vida or Death and All His Friends songs has been added to spotify_albums dictionary\n",
      "Album Pluto x Baby Pluto (Deluxe) songs has been added to spotify_albums dictionary\n",
      "Album Pluto x Baby Pluto songs has been added to spotify_albums dictionary\n",
      "Album Pluto x Baby Pluto (Deluxe) songs has been added to spotify_albums dictionary\n",
      "Album Pluto x Baby Pluto songs has been added to spotify_albums dictionary\n",
      "Album High Off Life songs has been added to spotify_albums dictionary\n",
      "Album High Off Life songs has been added to spotify_albums dictionary\n",
      "Album SAVE ME songs has been added to spotify_albums dictionary\n",
      "Album SAVE ME songs has been added to spotify_albums dictionary\n",
      "Album Future Hndrxx Presents: The WIZRD songs has been added to spotify_albums dictionary\n",
      "Album Future Hndrxx Presents: The WIZRD songs has been added to spotify_albums dictionary\n",
      "Album Future & Juice WRLD Present... WRLD ON DRUGS songs has been added to spotify_albums dictionary\n",
      "Album Future & Juice WRLD Present... WRLD ON DRUGS songs has been added to spotify_albums dictionary\n",
      "Album BEASTMODE 2 songs has been added to spotify_albums dictionary\n",
      "Album BEASTMODE 2 songs has been added to spotify_albums dictionary\n",
      "Album SUPERFLY (Original Motion Picture Soundtrack) songs has been added to spotify_albums dictionary\n",
      "Album SUPER SLIMEY songs has been added to spotify_albums dictionary\n",
      "Album SUPER SLIMEY songs has been added to spotify_albums dictionary\n",
      "Album HNDRXX songs has been added to spotify_albums dictionary\n",
      "Album FUTURE songs has been added to spotify_albums dictionary\n",
      "Album HNDRXX songs has been added to spotify_albums dictionary\n",
      "Album Certified Lover Boy songs has been added to spotify_albums dictionary\n",
      "Album Certified Lover Boy songs has been added to spotify_albums dictionary\n",
      "Album Dark Lane Demo Tapes songs has been added to spotify_albums dictionary\n",
      "Album Dark Lane Demo Tapes songs has been added to spotify_albums dictionary\n",
      "Album Care Package songs has been added to spotify_albums dictionary\n",
      "Album Care Package songs has been added to spotify_albums dictionary\n",
      "Album So Far Gone songs has been added to spotify_albums dictionary\n",
      "Album Scorpion songs has been added to spotify_albums dictionary\n",
      "Album Scorpion songs has been added to spotify_albums dictionary\n",
      "Album More Life songs has been added to spotify_albums dictionary\n",
      "Album More Life songs has been added to spotify_albums dictionary\n",
      "Album Views songs has been added to spotify_albums dictionary\n",
      "Album Views songs has been added to spotify_albums dictionary\n",
      "Album What A Time To Be Alive songs has been added to spotify_albums dictionary\n",
      "Album What A Time To Be Alive songs has been added to spotify_albums dictionary\n",
      "Album If You're Reading This It's Too Late songs has been added to spotify_albums dictionary\n",
      "Album If You're Reading This It's Too Late songs has been added to spotify_albums dictionary\n",
      "Album Nothing Was The Same (Deluxe) songs has been added to spotify_albums dictionary\n",
      "Album Nothing Was The Same (Deluxe) songs has been added to spotify_albums dictionary\n",
      "Album Nothing Was The Same (Deluxe) songs has been added to spotify_albums dictionary\n"
     ]
    }
   ],
   "source": [
    "spotify_albums = {} # initializing the dict so the function can add values to it.\n",
    "album_count = 0\n",
    "for i in album_uris: #each album being called using loop iterator i.\n",
    "    albumSongs(i)\n",
    "    print(\"Album \" + str(album_names[album_count]) + \" songs has been added to spotify_albums dictionary\")\n",
    "    album_count+=1 #Updates album count once all songs are added to move to the next album."
   ]
  },
  {
   "cell_type": "markdown",
   "metadata": {
    "id": "JOk_sTvoG-KB"
   },
   "source": [
    "## Defining function to extract audio features of all the songs from each album  we need to train the model."
   ]
  },
  {
   "cell_type": "code",
   "execution_count": 10,
   "metadata": {
    "id": "k8fy9xpxG-KC"
   },
   "outputs": [],
   "source": [
    "def audio_features(album):\n",
    "    #Add new keys where we will add value for the corresponding audio feature.\n",
    "    spotify_albums[album]['acousticness'] = []\n",
    "    spotify_albums[album]['danceability'] = []\n",
    "    spotify_albums[album]['energy'] = []\n",
    "    spotify_albums[album]['instrumentalness'] = []\n",
    "    spotify_albums[album]['liveness'] = []\n",
    "    spotify_albums[album]['loudness'] = []\n",
    "    spotify_albums[album]['speechiness'] = []\n",
    "    spotify_albums[album]['tempo'] = []\n",
    "    spotify_albums[album]['valence'] = []\n",
    "    spotify_albums[album]['popularity'] = []\n",
    "    spotify_albums[album]['duration_ms'] = []\n",
    "    #create a track counter\n",
    "    song_number = 0\n",
    "    for song in spotify_albums[album]['uri']:\n",
    "        #pull audio features per song\n",
    "        features = sp.audio_features(song)\n",
    "        \n",
    "        #Adding corresponding values for each song into each audio feature key.\n",
    "        spotify_albums[album]['acousticness'].append(features[0]['acousticness'])\n",
    "        spotify_albums[album]['danceability'].append(features[0]['danceability'])\n",
    "        spotify_albums[album]['energy'].append(features[0]['energy'])\n",
    "        spotify_albums[album]['instrumentalness'].append(features[0]['instrumentalness'])\n",
    "        spotify_albums[album]['liveness'].append(features[0]['liveness'])\n",
    "        spotify_albums[album]['loudness'].append(features[0]['loudness'])\n",
    "        spotify_albums[album]['speechiness'].append(features[0]['speechiness'])\n",
    "        spotify_albums[album]['tempo'].append(features[0]['tempo'])\n",
    "        spotify_albums[album]['valence'].append(features[0]['valence'])\n",
    "        spotify_albums[album]['duration_ms'].append(features[0]['duration_ms'])\n",
    "        #using function sp.track to get the song's popularity. Not available in the track info.\n",
    "        pop_of_song = sp.track(song)\n",
    "        spotify_albums[album]['popularity'].append(pop_of_song['popularity'])\n",
    "        song_number+=1"
   ]
  },
  {
   "cell_type": "markdown",
   "metadata": {
    "id": "DSp-cWUjG-KC"
   },
   "source": [
    "## Running the extract audiofeatures function on each album's every song and updating the dictionary accordingly."
   ]
  },
  {
   "cell_type": "markdown",
   "metadata": {
    "id": "tUAPi9SrG-KC"
   },
   "source": [
    "# $\\color{red}{\\text{Running this cell will take significant time!!!}}$\n",
    "###  The function is run recursively over all albums increasing the time."
   ]
  },
  {
   "cell_type": "code",
   "execution_count": 11,
   "metadata": {
    "colab": {
     "base_uri": "https://localhost:8080/",
     "height": 0
    },
    "id": "BD0AE8uZG-KD",
    "outputId": "eaabf71e-f15e-4b68-bcb0-fcd11a7a99fa"
   },
   "outputs": [
    {
     "name": "stdout",
     "output_type": "stream",
     "text": [
      "CPU times: user 2 µs, sys: 0 ns, total: 2 µs\n",
      "Wall time: 5.96 µs\n"
     ]
    }
   ],
   "source": [
    "for i in spotify_albums:\n",
    "    audio_features(i)\n",
    "%time"
   ]
  },
  {
   "cell_type": "markdown",
   "metadata": {
    "id": "w-jI4SEkG-KD"
   },
   "source": [
    "## Creating a dictionary to add all the information of the audio features and track info that we will convert to dataframe for extraction."
   ]
  },
  {
   "cell_type": "code",
   "execution_count": 12,
   "metadata": {
    "colab": {
     "base_uri": "https://localhost:8080/",
     "height": 0
    },
    "id": "RK8ylBy4G-KD",
    "outputId": "14b480ea-0bcb-4fc7-a87a-00c6f74713ca"
   },
   "outputs": [
    {
     "data": {
      "text/plain": [
       "1560"
      ]
     },
     "execution_count": 12,
     "metadata": {},
     "output_type": "execute_result"
    }
   ],
   "source": [
    "dic_df = {}\n",
    "dic_df['album'] = []\n",
    "dic_df['track_number'] = []\n",
    "dic_df['id'] = []\n",
    "dic_df['name'] = []\n",
    "dic_df['uri'] = []\n",
    "dic_df['acousticness'] = []\n",
    "dic_df['danceability'] = []\n",
    "dic_df['energy'] = []\n",
    "dic_df['instrumentalness'] = []\n",
    "dic_df['liveness'] = []\n",
    "dic_df['loudness'] = []\n",
    "dic_df['speechiness'] = []\n",
    "dic_df['tempo'] = []\n",
    "dic_df['valence'] = []\n",
    "dic_df['popularity'] = []\n",
    "dic_df['duration_ms'] = []\n",
    "for album in spotify_albums: \n",
    "    for feature in spotify_albums[album]:\n",
    "        dic_df[feature].extend(spotify_albums[album][feature])\n",
    "        \n",
    "len(dic_df['album']) # checking total number of songs after the data collection process."
   ]
  },
  {
   "cell_type": "markdown",
   "metadata": {
    "id": "ldiUjMR0G-KD"
   },
   "source": [
    "## Converting the dictionary into df using Pandas."
   ]
  },
  {
   "cell_type": "code",
   "execution_count": 13,
   "metadata": {
    "colab": {
     "base_uri": "https://localhost:8080/",
     "height": 278
    },
    "id": "ryAIx02DG-KE",
    "outputId": "f0318b25-0396-4f15-aa26-ddaa84623a3b"
   },
   "outputs": [
    {
     "data": {
      "text/html": [
       "<div>\n",
       "<style scoped>\n",
       "    .dataframe tbody tr th:only-of-type {\n",
       "        vertical-align: middle;\n",
       "    }\n",
       "\n",
       "    .dataframe tbody tr th {\n",
       "        vertical-align: top;\n",
       "    }\n",
       "\n",
       "    .dataframe thead th {\n",
       "        text-align: right;\n",
       "    }\n",
       "</style>\n",
       "<table border=\"1\" class=\"dataframe\">\n",
       "  <thead>\n",
       "    <tr style=\"text-align: right;\">\n",
       "      <th></th>\n",
       "      <th>album</th>\n",
       "      <th>track_number</th>\n",
       "      <th>id</th>\n",
       "      <th>name</th>\n",
       "      <th>uri</th>\n",
       "      <th>acousticness</th>\n",
       "      <th>danceability</th>\n",
       "      <th>energy</th>\n",
       "      <th>instrumentalness</th>\n",
       "      <th>liveness</th>\n",
       "      <th>loudness</th>\n",
       "      <th>speechiness</th>\n",
       "      <th>tempo</th>\n",
       "      <th>valence</th>\n",
       "      <th>popularity</th>\n",
       "      <th>duration_ms</th>\n",
       "    </tr>\n",
       "  </thead>\n",
       "  <tbody>\n",
       "    <tr>\n",
       "      <th>0</th>\n",
       "      <td>BE</td>\n",
       "      <td>1</td>\n",
       "      <td>249gnXrbfmV8NG6jTEMSwD</td>\n",
       "      <td>Life Goes On</td>\n",
       "      <td>spotify:track:249gnXrbfmV8NG6jTEMSwD</td>\n",
       "      <td>0.00691</td>\n",
       "      <td>0.566</td>\n",
       "      <td>0.716</td>\n",
       "      <td>0.0</td>\n",
       "      <td>0.3700</td>\n",
       "      <td>-5.733</td>\n",
       "      <td>0.0424</td>\n",
       "      <td>81.068</td>\n",
       "      <td>0.450</td>\n",
       "      <td>82</td>\n",
       "      <td>207481</td>\n",
       "    </tr>\n",
       "    <tr>\n",
       "      <th>1</th>\n",
       "      <td>BE</td>\n",
       "      <td>2</td>\n",
       "      <td>3QH8rQGNFX8VLbCgZ7uPTS</td>\n",
       "      <td>Fly To My Room</td>\n",
       "      <td>spotify:track:3QH8rQGNFX8VLbCgZ7uPTS</td>\n",
       "      <td>0.04840</td>\n",
       "      <td>0.764</td>\n",
       "      <td>0.526</td>\n",
       "      <td>0.0</td>\n",
       "      <td>0.0718</td>\n",
       "      <td>-7.355</td>\n",
       "      <td>0.2120</td>\n",
       "      <td>114.910</td>\n",
       "      <td>0.588</td>\n",
       "      <td>74</td>\n",
       "      <td>222243</td>\n",
       "    </tr>\n",
       "    <tr>\n",
       "      <th>2</th>\n",
       "      <td>BE</td>\n",
       "      <td>3</td>\n",
       "      <td>0n2moJpAEWHwaPYYjkzMDl</td>\n",
       "      <td>Blue &amp; Grey</td>\n",
       "      <td>spotify:track:0n2moJpAEWHwaPYYjkzMDl</td>\n",
       "      <td>0.42000</td>\n",
       "      <td>0.547</td>\n",
       "      <td>0.605</td>\n",
       "      <td>0.0</td>\n",
       "      <td>0.1250</td>\n",
       "      <td>-6.755</td>\n",
       "      <td>0.0415</td>\n",
       "      <td>121.953</td>\n",
       "      <td>0.364</td>\n",
       "      <td>76</td>\n",
       "      <td>254950</td>\n",
       "    </tr>\n",
       "    <tr>\n",
       "      <th>3</th>\n",
       "      <td>BE</td>\n",
       "      <td>4</td>\n",
       "      <td>4GVwjLRT7oSsKby7Vy8EHr</td>\n",
       "      <td>Skit</td>\n",
       "      <td>spotify:track:4GVwjLRT7oSsKby7Vy8EHr</td>\n",
       "      <td>0.86400</td>\n",
       "      <td>0.703</td>\n",
       "      <td>0.321</td>\n",
       "      <td>0.0</td>\n",
       "      <td>0.9080</td>\n",
       "      <td>-13.135</td>\n",
       "      <td>0.8840</td>\n",
       "      <td>114.822</td>\n",
       "      <td>0.544</td>\n",
       "      <td>57</td>\n",
       "      <td>179548</td>\n",
       "    </tr>\n",
       "    <tr>\n",
       "      <th>4</th>\n",
       "      <td>BE</td>\n",
       "      <td>5</td>\n",
       "      <td>2FVpOsjT1iquZ3SpCjZ9Ne</td>\n",
       "      <td>Telepathy</td>\n",
       "      <td>spotify:track:2FVpOsjT1iquZ3SpCjZ9Ne</td>\n",
       "      <td>0.00782</td>\n",
       "      <td>0.787</td>\n",
       "      <td>0.669</td>\n",
       "      <td>0.0</td>\n",
       "      <td>0.1230</td>\n",
       "      <td>-4.333</td>\n",
       "      <td>0.0428</td>\n",
       "      <td>104.994</td>\n",
       "      <td>0.570</td>\n",
       "      <td>75</td>\n",
       "      <td>202313</td>\n",
       "    </tr>\n",
       "  </tbody>\n",
       "</table>\n",
       "</div>"
      ],
      "text/plain": [
       "  album  track_number                      id  ... valence popularity  duration_ms\n",
       "0    BE             1  249gnXrbfmV8NG6jTEMSwD  ...   0.450         82       207481\n",
       "1    BE             2  3QH8rQGNFX8VLbCgZ7uPTS  ...   0.588         74       222243\n",
       "2    BE             3  0n2moJpAEWHwaPYYjkzMDl  ...   0.364         76       254950\n",
       "3    BE             4  4GVwjLRT7oSsKby7Vy8EHr  ...   0.544         57       179548\n",
       "4    BE             5  2FVpOsjT1iquZ3SpCjZ9Ne  ...   0.570         75       202313\n",
       "\n",
       "[5 rows x 16 columns]"
      ]
     },
     "execution_count": 13,
     "metadata": {},
     "output_type": "execute_result"
    }
   ],
   "source": [
    "df = pd.DataFrame.from_dict(dic_df)\n",
    "df.head() # Checking the head of the df to ensure everything was smoothly run."
   ]
  },
  {
   "cell_type": "markdown",
   "metadata": {
    "id": "pIKvKF3VG-KE"
   },
   "source": [
    "## This cell is run if you want to drop duplicates (IF ANY) based on any feature.\n",
    "### We used this to check if there were any duplicates based on id."
   ]
  },
  {
   "cell_type": "code",
   "execution_count": 14,
   "metadata": {
    "colab": {
     "base_uri": "https://localhost:8080/",
     "height": 0
    },
    "id": "gdm3P2OsG-KE",
    "outputId": "1596de42-ec6e-4ee6-ab56-4d41cbd16a34"
   },
   "outputs": [
    {
     "name": "stdout",
     "output_type": "stream",
     "text": [
      "1560\n",
      "1560\n"
     ]
    }
   ],
   "source": [
    "print(len(df))\n",
    "final_df = df.sort_values('popularity', ascending=False).drop_duplicates('id').sort_index()\n",
    "print(len(final_df))"
   ]
  },
  {
   "cell_type": "markdown",
   "metadata": {
    "id": "H91fxDR4G-KE"
   },
   "source": [
    "## Finally writing to csv to save the df which will be used for eda and visualization."
   ]
  },
  {
   "cell_type": "code",
   "execution_count": 15,
   "metadata": {
    "id": "TUhewaKtG-KE"
   },
   "outputs": [],
   "source": [
    "final_df.to_csv(\"Spotify_Audio_Features.csv\")"
   ]
  },
  {
   "cell_type": "markdown",
   "metadata": {
    "id": "6x5_dunaG-KE"
   },
   "source": [
    "### In order to get a comprehensive dataset for our Recommender system, we would have to scale this for several more artists and playlists.\n",
    "#### We do not have the computing resources as making Get() requests from the API for 3 artists took us over 10 minutes\n",
    "#### Hence we found a dataset with 1.2 million rows for our recommendation system\n",
    "Dataset link: https://drive.google.com/drive/folders/1nWFP1p93zER8FEg0E8dKGDZVJd-A4zt2?usp=sharing"
   ]
  },
  {
   "cell_type": "code",
   "execution_count": 16,
   "metadata": {
    "colab": {
     "base_uri": "https://localhost:8080/",
     "height": 0
    },
    "id": "kMQVg7ECKIQW",
    "outputId": "62d4a7e3-095f-4e5b-b8e6-d341e5ea1b58"
   },
   "outputs": [
    {
     "name": "stdout",
     "output_type": "stream",
     "text": [
      "Mounted at /content/drive\n"
     ]
    }
   ],
   "source": [
    "from google.colab import drive\n",
    "drive.mount('/content/drive')"
   ]
  },
  {
   "cell_type": "code",
   "execution_count": 18,
   "metadata": {
    "id": "pApo6lVbG-KE"
   },
   "outputs": [],
   "source": [
    "tracks = pd.read_csv('/content/drive/MyDrive/Data Mining - Group 14 - Dataset/tracks_features.csv')"
   ]
  },
  {
   "cell_type": "code",
   "execution_count": 19,
   "metadata": {
    "colab": {
     "base_uri": "https://localhost:8080/",
     "height": 487
    },
    "id": "EYIQoDB3G-KE",
    "outputId": "54050316-1ea9-4e1f-a847-f28a982a2d87"
   },
   "outputs": [
    {
     "data": {
      "text/html": [
       "<div>\n",
       "<style scoped>\n",
       "    .dataframe tbody tr th:only-of-type {\n",
       "        vertical-align: middle;\n",
       "    }\n",
       "\n",
       "    .dataframe tbody tr th {\n",
       "        vertical-align: top;\n",
       "    }\n",
       "\n",
       "    .dataframe thead th {\n",
       "        text-align: right;\n",
       "    }\n",
       "</style>\n",
       "<table border=\"1\" class=\"dataframe\">\n",
       "  <thead>\n",
       "    <tr style=\"text-align: right;\">\n",
       "      <th></th>\n",
       "      <th>id</th>\n",
       "      <th>name</th>\n",
       "      <th>album</th>\n",
       "      <th>album_id</th>\n",
       "      <th>artists</th>\n",
       "      <th>artist_ids</th>\n",
       "      <th>track_number</th>\n",
       "      <th>disc_number</th>\n",
       "      <th>explicit</th>\n",
       "      <th>danceability</th>\n",
       "      <th>energy</th>\n",
       "      <th>key</th>\n",
       "      <th>loudness</th>\n",
       "      <th>mode</th>\n",
       "      <th>speechiness</th>\n",
       "      <th>acousticness</th>\n",
       "      <th>instrumentalness</th>\n",
       "      <th>liveness</th>\n",
       "      <th>valence</th>\n",
       "      <th>tempo</th>\n",
       "      <th>duration_ms</th>\n",
       "      <th>time_signature</th>\n",
       "      <th>year</th>\n",
       "      <th>release_date</th>\n",
       "    </tr>\n",
       "  </thead>\n",
       "  <tbody>\n",
       "    <tr>\n",
       "      <th>0</th>\n",
       "      <td>7lmeHLHBe4nmXzuXc0HDjk</td>\n",
       "      <td>Testify</td>\n",
       "      <td>The Battle Of Los Angeles</td>\n",
       "      <td>2eia0myWFgoHuttJytCxgX</td>\n",
       "      <td>['Rage Against The Machine']</td>\n",
       "      <td>['2d0hyoQ5ynDBnkvAbJKORj']</td>\n",
       "      <td>1</td>\n",
       "      <td>1</td>\n",
       "      <td>False</td>\n",
       "      <td>0.470</td>\n",
       "      <td>0.978</td>\n",
       "      <td>7</td>\n",
       "      <td>-5.399</td>\n",
       "      <td>1</td>\n",
       "      <td>0.0727</td>\n",
       "      <td>0.02610</td>\n",
       "      <td>0.000011</td>\n",
       "      <td>0.3560</td>\n",
       "      <td>0.503</td>\n",
       "      <td>117.906</td>\n",
       "      <td>210133</td>\n",
       "      <td>4.0</td>\n",
       "      <td>1999</td>\n",
       "      <td>1999-11-02</td>\n",
       "    </tr>\n",
       "    <tr>\n",
       "      <th>1</th>\n",
       "      <td>1wsRitfRRtWyEapl0q22o8</td>\n",
       "      <td>Guerrilla Radio</td>\n",
       "      <td>The Battle Of Los Angeles</td>\n",
       "      <td>2eia0myWFgoHuttJytCxgX</td>\n",
       "      <td>['Rage Against The Machine']</td>\n",
       "      <td>['2d0hyoQ5ynDBnkvAbJKORj']</td>\n",
       "      <td>2</td>\n",
       "      <td>1</td>\n",
       "      <td>True</td>\n",
       "      <td>0.599</td>\n",
       "      <td>0.957</td>\n",
       "      <td>11</td>\n",
       "      <td>-5.764</td>\n",
       "      <td>1</td>\n",
       "      <td>0.1880</td>\n",
       "      <td>0.01290</td>\n",
       "      <td>0.000071</td>\n",
       "      <td>0.1550</td>\n",
       "      <td>0.489</td>\n",
       "      <td>103.680</td>\n",
       "      <td>206200</td>\n",
       "      <td>4.0</td>\n",
       "      <td>1999</td>\n",
       "      <td>1999-11-02</td>\n",
       "    </tr>\n",
       "    <tr>\n",
       "      <th>2</th>\n",
       "      <td>1hR0fIFK2qRG3f3RF70pb7</td>\n",
       "      <td>Calm Like a Bomb</td>\n",
       "      <td>The Battle Of Los Angeles</td>\n",
       "      <td>2eia0myWFgoHuttJytCxgX</td>\n",
       "      <td>['Rage Against The Machine']</td>\n",
       "      <td>['2d0hyoQ5ynDBnkvAbJKORj']</td>\n",
       "      <td>3</td>\n",
       "      <td>1</td>\n",
       "      <td>False</td>\n",
       "      <td>0.315</td>\n",
       "      <td>0.970</td>\n",
       "      <td>7</td>\n",
       "      <td>-5.424</td>\n",
       "      <td>1</td>\n",
       "      <td>0.4830</td>\n",
       "      <td>0.02340</td>\n",
       "      <td>0.000002</td>\n",
       "      <td>0.1220</td>\n",
       "      <td>0.370</td>\n",
       "      <td>149.749</td>\n",
       "      <td>298893</td>\n",
       "      <td>4.0</td>\n",
       "      <td>1999</td>\n",
       "      <td>1999-11-02</td>\n",
       "    </tr>\n",
       "    <tr>\n",
       "      <th>3</th>\n",
       "      <td>2lbASgTSoDO7MTuLAXlTW0</td>\n",
       "      <td>Mic Check</td>\n",
       "      <td>The Battle Of Los Angeles</td>\n",
       "      <td>2eia0myWFgoHuttJytCxgX</td>\n",
       "      <td>['Rage Against The Machine']</td>\n",
       "      <td>['2d0hyoQ5ynDBnkvAbJKORj']</td>\n",
       "      <td>4</td>\n",
       "      <td>1</td>\n",
       "      <td>True</td>\n",
       "      <td>0.440</td>\n",
       "      <td>0.967</td>\n",
       "      <td>11</td>\n",
       "      <td>-5.830</td>\n",
       "      <td>0</td>\n",
       "      <td>0.2370</td>\n",
       "      <td>0.16300</td>\n",
       "      <td>0.000004</td>\n",
       "      <td>0.1210</td>\n",
       "      <td>0.574</td>\n",
       "      <td>96.752</td>\n",
       "      <td>213640</td>\n",
       "      <td>4.0</td>\n",
       "      <td>1999</td>\n",
       "      <td>1999-11-02</td>\n",
       "    </tr>\n",
       "    <tr>\n",
       "      <th>4</th>\n",
       "      <td>1MQTmpYOZ6fcMQc56Hdo7T</td>\n",
       "      <td>Sleep Now In the Fire</td>\n",
       "      <td>The Battle Of Los Angeles</td>\n",
       "      <td>2eia0myWFgoHuttJytCxgX</td>\n",
       "      <td>['Rage Against The Machine']</td>\n",
       "      <td>['2d0hyoQ5ynDBnkvAbJKORj']</td>\n",
       "      <td>5</td>\n",
       "      <td>1</td>\n",
       "      <td>False</td>\n",
       "      <td>0.426</td>\n",
       "      <td>0.929</td>\n",
       "      <td>2</td>\n",
       "      <td>-6.729</td>\n",
       "      <td>1</td>\n",
       "      <td>0.0701</td>\n",
       "      <td>0.00162</td>\n",
       "      <td>0.105000</td>\n",
       "      <td>0.0789</td>\n",
       "      <td>0.539</td>\n",
       "      <td>127.059</td>\n",
       "      <td>205600</td>\n",
       "      <td>4.0</td>\n",
       "      <td>1999</td>\n",
       "      <td>1999-11-02</td>\n",
       "    </tr>\n",
       "  </tbody>\n",
       "</table>\n",
       "</div>"
      ],
      "text/plain": [
       "                       id                   name  ...  year release_date\n",
       "0  7lmeHLHBe4nmXzuXc0HDjk                Testify  ...  1999   1999-11-02\n",
       "1  1wsRitfRRtWyEapl0q22o8        Guerrilla Radio  ...  1999   1999-11-02\n",
       "2  1hR0fIFK2qRG3f3RF70pb7       Calm Like a Bomb  ...  1999   1999-11-02\n",
       "3  2lbASgTSoDO7MTuLAXlTW0              Mic Check  ...  1999   1999-11-02\n",
       "4  1MQTmpYOZ6fcMQc56Hdo7T  Sleep Now In the Fire  ...  1999   1999-11-02\n",
       "\n",
       "[5 rows x 24 columns]"
      ]
     },
     "execution_count": 19,
     "metadata": {},
     "output_type": "execute_result"
    }
   ],
   "source": [
    "tracks.head()"
   ]
  },
  {
   "cell_type": "code",
   "execution_count": 20,
   "metadata": {
    "colab": {
     "base_uri": "https://localhost:8080/",
     "height": 0
    },
    "id": "yV9O1sQfG-KE",
    "outputId": "03249b69-a912-483b-dfca-650fb45ec251"
   },
   "outputs": [
    {
     "data": {
      "text/plain": [
       "id                  0\n",
       "name                0\n",
       "album               0\n",
       "album_id            0\n",
       "artists             0\n",
       "artist_ids          0\n",
       "track_number        0\n",
       "disc_number         0\n",
       "explicit            0\n",
       "danceability        0\n",
       "energy              0\n",
       "key                 0\n",
       "loudness            0\n",
       "mode                0\n",
       "speechiness         0\n",
       "acousticness        0\n",
       "instrumentalness    0\n",
       "liveness            0\n",
       "valence             0\n",
       "tempo               0\n",
       "duration_ms         0\n",
       "time_signature      0\n",
       "year                0\n",
       "release_date        0\n",
       "dtype: int64"
      ]
     },
     "execution_count": 20,
     "metadata": {},
     "output_type": "execute_result"
    }
   ],
   "source": [
    "tracks.isna().sum()"
   ]
  },
  {
   "cell_type": "markdown",
   "metadata": {
    "id": "jB08RR0zG-KF"
   },
   "source": [
    "#### Here we can see that there are no null values. This is consistent with the data that we pulled using the API.\n",
    "#### If additional data is required then we can fetch selective data using the API \n"
   ]
  },
  {
   "cell_type": "code",
   "execution_count": 21,
   "metadata": {
    "colab": {
     "base_uri": "https://localhost:8080/",
     "height": 320
    },
    "id": "asDja5IXG-KF",
    "outputId": "b65e751e-055d-40e7-a86e-690bded19e1c"
   },
   "outputs": [
    {
     "data": {
      "text/html": [
       "<div>\n",
       "<style scoped>\n",
       "    .dataframe tbody tr th:only-of-type {\n",
       "        vertical-align: middle;\n",
       "    }\n",
       "\n",
       "    .dataframe tbody tr th {\n",
       "        vertical-align: top;\n",
       "    }\n",
       "\n",
       "    .dataframe thead th {\n",
       "        text-align: right;\n",
       "    }\n",
       "</style>\n",
       "<table border=\"1\" class=\"dataframe\">\n",
       "  <thead>\n",
       "    <tr style=\"text-align: right;\">\n",
       "      <th></th>\n",
       "      <th>track_number</th>\n",
       "      <th>disc_number</th>\n",
       "      <th>danceability</th>\n",
       "      <th>energy</th>\n",
       "      <th>key</th>\n",
       "      <th>loudness</th>\n",
       "      <th>mode</th>\n",
       "      <th>speechiness</th>\n",
       "      <th>acousticness</th>\n",
       "      <th>instrumentalness</th>\n",
       "      <th>liveness</th>\n",
       "      <th>valence</th>\n",
       "      <th>tempo</th>\n",
       "      <th>duration_ms</th>\n",
       "      <th>time_signature</th>\n",
       "      <th>year</th>\n",
       "    </tr>\n",
       "  </thead>\n",
       "  <tbody>\n",
       "    <tr>\n",
       "      <th>count</th>\n",
       "      <td>1.204025e+06</td>\n",
       "      <td>1.204025e+06</td>\n",
       "      <td>1.204025e+06</td>\n",
       "      <td>1.204025e+06</td>\n",
       "      <td>1.204025e+06</td>\n",
       "      <td>1.204025e+06</td>\n",
       "      <td>1.204025e+06</td>\n",
       "      <td>1.204025e+06</td>\n",
       "      <td>1.204025e+06</td>\n",
       "      <td>1.204025e+06</td>\n",
       "      <td>1.204025e+06</td>\n",
       "      <td>1.204025e+06</td>\n",
       "      <td>1.204025e+06</td>\n",
       "      <td>1.204025e+06</td>\n",
       "      <td>1.204025e+06</td>\n",
       "      <td>1.204025e+06</td>\n",
       "    </tr>\n",
       "    <tr>\n",
       "      <th>mean</th>\n",
       "      <td>7.656352e+00</td>\n",
       "      <td>1.055906e+00</td>\n",
       "      <td>4.930565e-01</td>\n",
       "      <td>5.095363e-01</td>\n",
       "      <td>5.194151e+00</td>\n",
       "      <td>-1.180870e+01</td>\n",
       "      <td>6.714595e-01</td>\n",
       "      <td>8.438219e-02</td>\n",
       "      <td>4.467511e-01</td>\n",
       "      <td>2.828605e-01</td>\n",
       "      <td>2.015994e-01</td>\n",
       "      <td>4.279866e-01</td>\n",
       "      <td>1.176344e+02</td>\n",
       "      <td>2.488399e+05</td>\n",
       "      <td>3.832494e+00</td>\n",
       "      <td>2.007328e+03</td>\n",
       "    </tr>\n",
       "    <tr>\n",
       "      <th>std</th>\n",
       "      <td>5.994977e+00</td>\n",
       "      <td>2.953752e-01</td>\n",
       "      <td>1.896694e-01</td>\n",
       "      <td>2.946839e-01</td>\n",
       "      <td>3.536731e+00</td>\n",
       "      <td>6.982132e+00</td>\n",
       "      <td>4.696827e-01</td>\n",
       "      <td>1.159914e-01</td>\n",
       "      <td>3.852014e-01</td>\n",
       "      <td>3.762844e-01</td>\n",
       "      <td>1.804591e-01</td>\n",
       "      <td>2.704846e-01</td>\n",
       "      <td>3.093705e+01</td>\n",
       "      <td>1.622104e+05</td>\n",
       "      <td>5.611826e-01</td>\n",
       "      <td>1.210117e+01</td>\n",
       "    </tr>\n",
       "    <tr>\n",
       "      <th>min</th>\n",
       "      <td>1.000000e+00</td>\n",
       "      <td>1.000000e+00</td>\n",
       "      <td>0.000000e+00</td>\n",
       "      <td>0.000000e+00</td>\n",
       "      <td>0.000000e+00</td>\n",
       "      <td>-6.000000e+01</td>\n",
       "      <td>0.000000e+00</td>\n",
       "      <td>0.000000e+00</td>\n",
       "      <td>0.000000e+00</td>\n",
       "      <td>0.000000e+00</td>\n",
       "      <td>0.000000e+00</td>\n",
       "      <td>0.000000e+00</td>\n",
       "      <td>0.000000e+00</td>\n",
       "      <td>1.000000e+03</td>\n",
       "      <td>0.000000e+00</td>\n",
       "      <td>0.000000e+00</td>\n",
       "    </tr>\n",
       "    <tr>\n",
       "      <th>25%</th>\n",
       "      <td>3.000000e+00</td>\n",
       "      <td>1.000000e+00</td>\n",
       "      <td>3.560000e-01</td>\n",
       "      <td>2.520000e-01</td>\n",
       "      <td>2.000000e+00</td>\n",
       "      <td>-1.525400e+01</td>\n",
       "      <td>0.000000e+00</td>\n",
       "      <td>3.510000e-02</td>\n",
       "      <td>3.760000e-02</td>\n",
       "      <td>7.600000e-06</td>\n",
       "      <td>9.680000e-02</td>\n",
       "      <td>1.910000e-01</td>\n",
       "      <td>9.405400e+01</td>\n",
       "      <td>1.740900e+05</td>\n",
       "      <td>4.000000e+00</td>\n",
       "      <td>2.002000e+03</td>\n",
       "    </tr>\n",
       "    <tr>\n",
       "      <th>50%</th>\n",
       "      <td>7.000000e+00</td>\n",
       "      <td>1.000000e+00</td>\n",
       "      <td>5.010000e-01</td>\n",
       "      <td>5.240000e-01</td>\n",
       "      <td>5.000000e+00</td>\n",
       "      <td>-9.791000e+00</td>\n",
       "      <td>1.000000e+00</td>\n",
       "      <td>4.460000e-02</td>\n",
       "      <td>3.890000e-01</td>\n",
       "      <td>8.080000e-03</td>\n",
       "      <td>1.250000e-01</td>\n",
       "      <td>4.030000e-01</td>\n",
       "      <td>1.167260e+02</td>\n",
       "      <td>2.243390e+05</td>\n",
       "      <td>4.000000e+00</td>\n",
       "      <td>2.009000e+03</td>\n",
       "    </tr>\n",
       "    <tr>\n",
       "      <th>75%</th>\n",
       "      <td>1.000000e+01</td>\n",
       "      <td>1.000000e+00</td>\n",
       "      <td>6.330000e-01</td>\n",
       "      <td>7.660000e-01</td>\n",
       "      <td>8.000000e+00</td>\n",
       "      <td>-6.717000e+00</td>\n",
       "      <td>1.000000e+00</td>\n",
       "      <td>7.230000e-02</td>\n",
       "      <td>8.610000e-01</td>\n",
       "      <td>7.190000e-01</td>\n",
       "      <td>2.450000e-01</td>\n",
       "      <td>6.440000e-01</td>\n",
       "      <td>1.370460e+02</td>\n",
       "      <td>2.858400e+05</td>\n",
       "      <td>4.000000e+00</td>\n",
       "      <td>2.015000e+03</td>\n",
       "    </tr>\n",
       "    <tr>\n",
       "      <th>max</th>\n",
       "      <td>5.000000e+01</td>\n",
       "      <td>1.300000e+01</td>\n",
       "      <td>1.000000e+00</td>\n",
       "      <td>1.000000e+00</td>\n",
       "      <td>1.100000e+01</td>\n",
       "      <td>7.234000e+00</td>\n",
       "      <td>1.000000e+00</td>\n",
       "      <td>9.690000e-01</td>\n",
       "      <td>9.960000e-01</td>\n",
       "      <td>1.000000e+00</td>\n",
       "      <td>1.000000e+00</td>\n",
       "      <td>1.000000e+00</td>\n",
       "      <td>2.489340e+02</td>\n",
       "      <td>6.061090e+06</td>\n",
       "      <td>5.000000e+00</td>\n",
       "      <td>2.020000e+03</td>\n",
       "    </tr>\n",
       "  </tbody>\n",
       "</table>\n",
       "</div>"
      ],
      "text/plain": [
       "       track_number   disc_number  ...  time_signature          year\n",
       "count  1.204025e+06  1.204025e+06  ...    1.204025e+06  1.204025e+06\n",
       "mean   7.656352e+00  1.055906e+00  ...    3.832494e+00  2.007328e+03\n",
       "std    5.994977e+00  2.953752e-01  ...    5.611826e-01  1.210117e+01\n",
       "min    1.000000e+00  1.000000e+00  ...    0.000000e+00  0.000000e+00\n",
       "25%    3.000000e+00  1.000000e+00  ...    4.000000e+00  2.002000e+03\n",
       "50%    7.000000e+00  1.000000e+00  ...    4.000000e+00  2.009000e+03\n",
       "75%    1.000000e+01  1.000000e+00  ...    4.000000e+00  2.015000e+03\n",
       "max    5.000000e+01  1.300000e+01  ...    5.000000e+00  2.020000e+03\n",
       "\n",
       "[8 rows x 16 columns]"
      ]
     },
     "execution_count": 21,
     "metadata": {},
     "output_type": "execute_result"
    }
   ],
   "source": [
    "tracks.describe()"
   ]
  },
  {
   "cell_type": "code",
   "execution_count": 22,
   "metadata": {
    "colab": {
     "base_uri": "https://localhost:8080/",
     "height": 0
    },
    "id": "ugEJ9aXvG-KF",
    "outputId": "ed6ba9e8-59e6-4ec3-a383-9e5f976ebec9"
   },
   "outputs": [
    {
     "name": "stdout",
     "output_type": "stream",
     "text": [
      "<class 'pandas.core.frame.DataFrame'>\n",
      "RangeIndex: 1204025 entries, 0 to 1204024\n",
      "Data columns (total 24 columns):\n",
      " #   Column            Non-Null Count    Dtype  \n",
      "---  ------            --------------    -----  \n",
      " 0   id                1204025 non-null  object \n",
      " 1   name              1204025 non-null  object \n",
      " 2   album             1204025 non-null  object \n",
      " 3   album_id          1204025 non-null  object \n",
      " 4   artists           1204025 non-null  object \n",
      " 5   artist_ids        1204025 non-null  object \n",
      " 6   track_number      1204025 non-null  int64  \n",
      " 7   disc_number       1204025 non-null  int64  \n",
      " 8   explicit          1204025 non-null  bool   \n",
      " 9   danceability      1204025 non-null  float64\n",
      " 10  energy            1204025 non-null  float64\n",
      " 11  key               1204025 non-null  int64  \n",
      " 12  loudness          1204025 non-null  float64\n",
      " 13  mode              1204025 non-null  int64  \n",
      " 14  speechiness       1204025 non-null  float64\n",
      " 15  acousticness      1204025 non-null  float64\n",
      " 16  instrumentalness  1204025 non-null  float64\n",
      " 17  liveness          1204025 non-null  float64\n",
      " 18  valence           1204025 non-null  float64\n",
      " 19  tempo             1204025 non-null  float64\n",
      " 20  duration_ms       1204025 non-null  int64  \n",
      " 21  time_signature    1204025 non-null  float64\n",
      " 22  year              1204025 non-null  int64  \n",
      " 23  release_date      1204025 non-null  object \n",
      "dtypes: bool(1), float64(10), int64(6), object(7)\n",
      "memory usage: 212.4+ MB\n"
     ]
    }
   ],
   "source": [
    "tracks.info()"
   ]
  },
  {
   "cell_type": "markdown",
   "metadata": {
    "id": "1ry7jeW5G-KF"
   },
   "source": [
    "#### Plotting the audio features as boxplot to view outliers"
   ]
  },
  {
   "cell_type": "code",
   "execution_count": 23,
   "metadata": {
    "colab": {
     "base_uri": "https://localhost:8080/",
     "height": 703
    },
    "id": "Db0AyPh6G-KF",
    "outputId": "77ebead5-81f2-4de0-a603-6dc102bdbfc6"
   },
   "outputs": [
    {
     "data": {
      "text/plain": [
       "(array([0, 1, 2, 3, 4, 5, 6, 7, 8, 9]),\n",
       " <a list of 10 Text major ticklabel objects>)"
      ]
     },
     "execution_count": 23,
     "metadata": {},
     "output_type": "execute_result"
    },
    {
     "data": {
      "image/png": "[encoded data removed]",
      "text/plain": [
       "<Figure size 720x720 with 1 Axes>"
      ]
     },
     "metadata": {
      "needs_background": "light"
     },
     "output_type": "display_data"
    }
   ],
   "source": [
    "plt.figure(figsize = (10,10))\n",
    "sns.boxplot(data=tracks.iloc[:,9:19], )\n",
    "plt.xticks(rotation=90)"
   ]
  },
  {
   "cell_type": "code",
   "execution_count": 25,
   "metadata": {
    "colab": {
     "base_uri": "https://localhost:8080/",
     "height": 0
    },
    "id": "EWH7FAY1G-KG",
    "outputId": "f1c22caa-256d-49d0-afea-f2a03e0895ad"
   },
   "outputs": [
    {
     "data": {
      "text/plain": [
       "0         -5.399\n",
       "1         -5.764\n",
       "2         -5.424\n",
       "3         -5.830\n",
       "4         -6.729\n",
       "           ...  \n",
       "1204020   -6.970\n",
       "1204021   -6.602\n",
       "1204022   -5.960\n",
       "1204023   -6.788\n",
       "1204024   -9.279\n",
       "Name: loudness, Length: 1204025, dtype: float64"
      ]
     },
     "execution_count": 25,
     "metadata": {},
     "output_type": "execute_result"
    }
   ],
   "source": [
    "loudness  = tracks['loudness']\n",
    "loudness"
   ]
  },
  {
   "cell_type": "markdown",
   "metadata": {
    "id": "tCKycxaYG-KF"
   },
   "source": [
    "#### Loudness has a wide range of outliers"
   ]
  },
  {
   "cell_type": "markdown",
   "metadata": {
    "id": "DB04FDSmG-KG"
   },
   "source": [
    "#### Using IQR to clean the outliers"
   ]
  },
  {
   "cell_type": "code",
   "execution_count": 26,
   "metadata": {
    "colab": {
     "base_uri": "https://localhost:8080/",
     "height": 0
    },
    "id": "BPIHMDOgG-KG",
    "outputId": "54ff8ba1-a0b4-4bc7-c32a-961b3052d32d"
   },
   "outputs": [
    {
     "name": "stdout",
     "output_type": "stream",
     "text": [
      "Percentiles: 25th=-15.254, 75th=-6.717, IQR=8.537\n"
     ]
    }
   ],
   "source": [
    "q25, q75 = percentile(loudness, 25), percentile(loudness, 75)\n",
    "iqr = q75 - q25\n",
    "print('Percentiles: 25th=%.3f, 75th=%.3f, IQR=%.3f' % (q25, q75, iqr) )\n",
    "cut_off = iqr * 1.5\n",
    "lower, upper = q25 - cut_off, q75 + cut_off"
   ]
  },
  {
   "cell_type": "markdown",
   "metadata": {
    "id": "qSN-nympG-KG"
   },
   "source": [
    "#### Plotting the loudness values to get an idea of how the data is distributed"
   ]
  },
  {
   "cell_type": "code",
   "execution_count": 27,
   "metadata": {
    "colab": {
     "base_uri": "https://localhost:8080/",
     "height": 351
    },
    "id": "IAmYpa0eG-KG",
    "outputId": "513cd032-f32f-46ab-cb75-ecbdfd65bb30"
   },
   "outputs": [
    {
     "name": "stderr",
     "output_type": "stream",
     "text": [
      "/usr/local/lib/python3.7/dist-packages/seaborn/distributions.py:2619: FutureWarning: `distplot` is a deprecated function and will be removed in a future version. Please adapt your code to use either `displot` (a figure-level function with similar flexibility) or `histplot` (an axes-level function for histograms).\n",
      "  warnings.warn(msg, FutureWarning)\n"
     ]
    },
    {
     "data": {
      "text/plain": [
       "<matplotlib.axes._subplots.AxesSubplot at 0x7fcdaf04a790>"
      ]
     },
     "execution_count": 27,
     "metadata": {},
     "output_type": "execute_result"
    },
    {
     "data": {
      "image/png": "[encoded data removed]",
      "text/plain": [
       "<Figure size 432x288 with 1 Axes>"
      ]
     },
     "metadata": {
      "needs_background": "light"
     },
     "output_type": "display_data"
    }
   ],
   "source": [
    "sns.distplot(tracks['loudness'])"
   ]
  },
  {
   "cell_type": "code",
   "execution_count": 28,
   "metadata": {
    "colab": {
     "base_uri": "https://localhost:8080/",
     "height": 0
    },
    "id": "wjIE4ywrG-KG",
    "outputId": "1a68f1b7-7aac-4f68-aa2b-8646e39f750d"
   },
   "outputs": [
    {
     "data": {
      "text/plain": [
       "count    1.204025e+06\n",
       "mean    -1.180870e+01\n",
       "std      6.982132e+00\n",
       "min     -6.000000e+01\n",
       "25%     -1.525400e+01\n",
       "50%     -9.791000e+00\n",
       "75%     -6.717000e+00\n",
       "max      7.234000e+00\n",
       "Name: loudness, dtype: float64"
      ]
     },
     "execution_count": 28,
     "metadata": {},
     "output_type": "execute_result"
    }
   ],
   "source": [
    "loudness.describe()"
   ]
  },
  {
   "cell_type": "code",
   "execution_count": 29,
   "metadata": {
    "id": "YbQoKM0HG-KG"
   },
   "outputs": [],
   "source": [
    "clean_tracks = tracks[(tracks['loudness'] > lower) &( tracks['loudness'] < upper)]"
   ]
  },
  {
   "cell_type": "code",
   "execution_count": 30,
   "metadata": {
    "colab": {
     "base_uri": "https://localhost:8080/",
     "height": 282
    },
    "id": "72gPtaHTG-KG",
    "outputId": "1d59d76e-93a7-4928-d6df-1d614251ed24"
   },
   "outputs": [
    {
     "data": {
      "text/plain": [
       "<matplotlib.axes._subplots.AxesSubplot at 0x7fcdaeb9c750>"
      ]
     },
     "execution_count": 30,
     "metadata": {},
     "output_type": "execute_result"
    },
    {
     "data": {
      "image/png": "[encoded data removed]",
      "text/plain": [
       "<Figure size 432x288 with 1 Axes>"
      ]
     },
     "metadata": {
      "needs_background": "light"
     },
     "output_type": "display_data"
    }
   ],
   "source": [
    "sns.boxplot(data = clean_tracks['loudness'])"
   ]
  },
  {
   "cell_type": "markdown",
   "metadata": {
    "id": "EWk0ZcHBG-KG"
   },
   "source": [
    "#### Plotting heatmap to get the correlation between variables"
   ]
  },
  {
   "cell_type": "code",
   "execution_count": 31,
   "metadata": {
    "colab": {
     "base_uri": "https://localhost:8080/",
     "height": 689
    },
    "id": "hZQdKM5OG-KH",
    "outputId": "ad034d24-afcb-4a32-f77e-01f6cc5d76c8"
   },
   "outputs": [
    {
     "data": {
      "text/plain": [
       "<matplotlib.axes._subplots.AxesSubplot at 0x7fcda5772dd0>"
      ]
     },
     "execution_count": 31,
     "metadata": {},
     "output_type": "execute_result"
    },
    {
     "data": {
      "image/png": "[encoded data removed]",
      "text/plain": [
       "<Figure size 720x720 with 2 Axes>"
      ]
     },
     "metadata": {
      "needs_background": "light"
     },
     "output_type": "display_data"
    }
   ],
   "source": [
    "plt.figure(figsize=(10,10))\n",
    "sns.heatmap( clean_tracks.iloc[:,9:20].corr(),annot=True,cmap=\"coolwarm\")"
   ]
  },
  {
   "cell_type": "markdown",
   "metadata": {
    "id": "TC4fFs0IG-KH"
   },
   "source": [
    "#### Here we can see that there is high positive correlation between:\n",
    "- Loudness and Energy \n",
    "- Valence & Danceability\n",
    "#### We can observe high negative correlation between: \n",
    "- Acousticness & Energy \n",
    "- Acousticness & Loudness"
   ]
  }
 ],
 "metadata": {
  "colab": {
   "collapsed_sections": [],
   "name": "Spotify_API_DATA_Collection.ipynb",
   "provenance": []
  },
  "kernelspec": {
   "display_name": "Python [conda env:tensorflow]",
   "language": "python",
   "name": "conda-env-tensorflow-py"
  },
  "language_info": {
   "codemirror_mode": {
    "name": "ipython",
    "version": 3
   },
   "file_extension": ".py",
   "mimetype": "text/x-python",
   "name": "python",
   "nbconvert_exporter": "python",
   "pygments_lexer": "ipython3",
   "version": "3.9.6"
  }
 },
 "nbformat": 4,
 "nbformat_minor": 1
}
